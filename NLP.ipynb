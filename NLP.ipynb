{
  "nbformat": 4,
  "nbformat_minor": 0,
  "metadata": {
    "colab": {
      "provenance": [],
      "authorship_tag": "ABX9TyOPoC2p/+SgLlOuthS/jepo",
      "include_colab_link": true
    },
    "kernelspec": {
      "name": "python3",
      "display_name": "Python 3"
    },
    "language_info": {
      "name": "python"
    }
  },
  "cells": [
    {
      "cell_type": "markdown",
      "metadata": {
        "id": "view-in-github",
        "colab_type": "text"
      },
      "source": [
        "<a href=\"https://colab.research.google.com/github/pathakmohit/Datascience_cybercrime_analytics/blob/main/NLP.ipynb\" target=\"_parent\"><img src=\"https://colab.research.google.com/assets/colab-badge.svg\" alt=\"Open In Colab\"/></a>"
      ]
    },
    {
      "cell_type": "markdown",
      "source": [
        "# **THIS NLP (NATURAL LANGUAGE PROCESSING)**\n"
      ],
      "metadata": {
        "id": "4TyShxSoxZqE"
      }
    },
    {
      "cell_type": "markdown",
      "source": [
        "\n",
        "\n",
        "*  DOWNLOAD NLTK LIBRARY\n",
        "\n",
        "*   USE PARAGRAPH TO READ PARAGRAPH\n",
        "*  USE NLTK LIBRARY USE TO PERFORM deference DEFERENCE ALGORITHM PERFORM TASKS\n",
        "\n",
        "\n",
        "\n",
        "\n"
      ],
      "metadata": {
        "id": "jQcaKSDxxqTu"
      }
    },
    {
      "cell_type": "code",
      "execution_count": null,
      "metadata": {
        "colab": {
          "base_uri": "https://localhost:8080/"
        },
        "id": "uBuiMm5-8ZqH",
        "outputId": "d25818d4-d890-4790-cba5-ac20ee566b06"
      },
      "outputs": [
        {
          "output_type": "stream",
          "name": "stdout",
          "text": [
            "Requirement already satisfied: nltk in /usr/local/lib/python3.10/dist-packages (3.9.1)\n",
            "Requirement already satisfied: click in /usr/local/lib/python3.10/dist-packages (from nltk) (8.1.7)\n",
            "Requirement already satisfied: joblib in /usr/local/lib/python3.10/dist-packages (from nltk) (1.4.2)\n",
            "Requirement already satisfied: regex>=2021.8.3 in /usr/local/lib/python3.10/dist-packages (from nltk) (2024.9.11)\n",
            "Requirement already satisfied: tqdm in /usr/local/lib/python3.10/dist-packages (from nltk) (4.66.6)\n"
          ]
        }
      ],
      "source": [
        "pip install nltk"
      ]
    },
    {
      "cell_type": "code",
      "source": [
        "paragraph = \"\"\"\n",
        "\n",
        "Google Docs allows users to create and edit documents online while collaborating with users in real-time. Edits are tracked by the user making the edit, with a revision history presenting changes.[4] An editor's position is highlighted with an editor-specific color and cursor, and a permissions system regulates what users can do. Updates have introduced features using machine learning, including \"Explore\", offering search results based on the contents of a document, and \"Action items\", allowing users to assign tasks to other users.[5]\n",
        "\n",
        "Google Docs supports o\"\"\""
      ],
      "metadata": {
        "id": "vN71Xr6w8qqL"
      },
      "execution_count": null,
      "outputs": []
    },
    {
      "cell_type": "code",
      "source": [
        "import nltk\n",
        "from nltk.stem import PorterStemmer\n",
        "from nltk.corpus import stopwords"
      ],
      "metadata": {
        "id": "c8b9Gdjl84Ga"
      },
      "execution_count": null,
      "outputs": []
    },
    {
      "cell_type": "code",
      "source": [
        "nltk.download('punkt')"
      ],
      "metadata": {
        "colab": {
          "base_uri": "https://localhost:8080/"
        },
        "id": "sHJUg_hp9CT_",
        "outputId": "835741dd-3c90-4c1f-8594-15af002e92fc"
      },
      "execution_count": null,
      "outputs": [
        {
          "output_type": "stream",
          "name": "stderr",
          "text": [
            "[nltk_data] Downloading package punkt to /root/nltk_data...\n",
            "[nltk_data]   Unzipping tokenizers/punkt.zip.\n"
          ]
        },
        {
          "output_type": "execute_result",
          "data": {
            "text/plain": [
              "True"
            ]
          },
          "metadata": {},
          "execution_count": 6
        }
      ]
    },
    {
      "cell_type": "code",
      "source": [
        "nltk.download('punkt_tab')"
      ],
      "metadata": {
        "colab": {
          "base_uri": "https://localhost:8080/"
        },
        "id": "C18aK9cv-qaT",
        "outputId": "507cc974-7d21-4fb4-d04e-dfe509e24948"
      },
      "execution_count": null,
      "outputs": [
        {
          "output_type": "stream",
          "name": "stderr",
          "text": [
            "[nltk_data] Downloading package punkt_tab to /root/nltk_data...\n",
            "[nltk_data]   Unzipping tokenizers/punkt_tab.zip.\n"
          ]
        },
        {
          "output_type": "execute_result",
          "data": {
            "text/plain": [
              "True"
            ]
          },
          "metadata": {},
          "execution_count": 18
        }
      ]
    },
    {
      "cell_type": "code",
      "source": [
        "sentence = nltk.sent_tokenize(paragraph)"
      ],
      "metadata": {
        "id": "cmTFt_WJ-KNz"
      },
      "execution_count": null,
      "outputs": []
    },
    {
      "cell_type": "code",
      "source": [
        "type(sentence)"
      ],
      "metadata": {
        "colab": {
          "base_uri": "https://localhost:8080/"
        },
        "id": "quhaaKex-uy3",
        "outputId": "cb7fa97b-fe35-4d6d-ba8b-bbda8b8cc689"
      },
      "execution_count": null,
      "outputs": [
        {
          "output_type": "execute_result",
          "data": {
            "text/plain": [
              "list"
            ]
          },
          "metadata": {},
          "execution_count": 20
        }
      ]
    },
    {
      "cell_type": "code",
      "source": [
        "print(sentence)"
      ],
      "metadata": {
        "colab": {
          "base_uri": "https://localhost:8080/"
        },
        "id": "-4qRkOPZ-w_R",
        "outputId": "c42b3f92-f700-4868-f92d-cb5b10f0e736"
      },
      "execution_count": null,
      "outputs": [
        {
          "output_type": "stream",
          "name": "stdout",
          "text": [
            "['\\nGoogle Docs allows users to create and edit documents online while collaborating with users in real-time.', 'Edits are tracked by the user making the edit, with a revision history presenting changes.', \"[4] An editor's position is highlighted with an editor-specific color and cursor, and a permissions system regulates what users can do.\", 'Updates have introduced features using machine learning, including \"Explore\", offering search results based on the contents of a document, and \"Action items\", allowing users to assign tasks to other users.', '[5]\\n\\nGoogle Docs supports o']\n"
          ]
        }
      ]
    },
    {
      "cell_type": "code",
      "source": [
        "stemmer = PorterStemmer()\n",
        "stemmer.stem('goes')\n"
      ],
      "metadata": {
        "colab": {
          "base_uri": "https://localhost:8080/",
          "height": 36
        },
        "id": "FFT3Fmln-2PZ",
        "outputId": "0b6e0207-bc91-453c-d724-ddb3fcc46562"
      },
      "execution_count": null,
      "outputs": [
        {
          "output_type": "execute_result",
          "data": {
            "text/plain": [
              "'goe'"
            ],
            "application/vnd.google.colaboratory.intrinsic+json": {
              "type": "string"
            }
          },
          "metadata": {},
          "execution_count": 22
        }
      ]
    },
    {
      "cell_type": "code",
      "source": [
        "nltk.download('wordnet')"
      ],
      "metadata": {
        "colab": {
          "base_uri": "https://localhost:8080/"
        },
        "id": "xnbwX5dE_DSp",
        "outputId": "84836ffc-76f3-46ba-c241-14f3d303f66a"
      },
      "execution_count": null,
      "outputs": [
        {
          "output_type": "stream",
          "name": "stderr",
          "text": [
            "[nltk_data] Downloading package wordnet to /root/nltk_data...\n"
          ]
        },
        {
          "output_type": "execute_result",
          "data": {
            "text/plain": [
              "True"
            ]
          },
          "metadata": {},
          "execution_count": 23
        }
      ]
    },
    {
      "cell_type": "code",
      "source": [
        "from nltk.stem import WordNetLemmatizer\n",
        "lemmatizer = WordNetLemmatizer()\n",
        "lemmatizer.lemmatize('goes')"
      ],
      "metadata": {
        "colab": {
          "base_uri": "https://localhost:8080/",
          "height": 36
        },
        "id": "mNSl32wp_PHJ",
        "outputId": "9764b051-562f-42a5-819a-5fbb1e8f3ded"
      },
      "execution_count": null,
      "outputs": [
        {
          "output_type": "execute_result",
          "data": {
            "text/plain": [
              "'go'"
            ],
            "application/vnd.google.colaboratory.intrinsic+json": {
              "type": "string"
            }
          },
          "metadata": {},
          "execution_count": 24
        }
      ]
    },
    {
      "cell_type": "code",
      "source": [
        "import re\n",
        "corpus = []\n",
        "for i in range(len(sentence)):\n",
        "  text = re.sub(\"[^a-zA-Z]\",\" \",sentence[i])\n",
        "  text = text.lower()\n",
        "  text = text.split()\n",
        "  corpus.append(text)\n",
        "corpus"
      ],
      "metadata": {
        "colab": {
          "base_uri": "https://localhost:8080/"
        },
        "id": "u8vXDSu5_7ON",
        "outputId": "6ef6798f-77bb-4114-e165-14dff94dc724"
      },
      "execution_count": null,
      "outputs": [
        {
          "output_type": "execute_result",
          "data": {
            "text/plain": [
              "[['google',\n",
              "  'docs',\n",
              "  'allows',\n",
              "  'users',\n",
              "  'to',\n",
              "  'create',\n",
              "  'and',\n",
              "  'edit',\n",
              "  'documents',\n",
              "  'online',\n",
              "  'while',\n",
              "  'collaborating',\n",
              "  'with',\n",
              "  'users',\n",
              "  'in',\n",
              "  'real',\n",
              "  'time'],\n",
              " ['edits',\n",
              "  'are',\n",
              "  'tracked',\n",
              "  'by',\n",
              "  'the',\n",
              "  'user',\n",
              "  'making',\n",
              "  'the',\n",
              "  'edit',\n",
              "  'with',\n",
              "  'a',\n",
              "  'revision',\n",
              "  'history',\n",
              "  'presenting',\n",
              "  'changes'],\n",
              " ['an',\n",
              "  'editor',\n",
              "  's',\n",
              "  'position',\n",
              "  'is',\n",
              "  'highlighted',\n",
              "  'with',\n",
              "  'an',\n",
              "  'editor',\n",
              "  'specific',\n",
              "  'color',\n",
              "  'and',\n",
              "  'cursor',\n",
              "  'and',\n",
              "  'a',\n",
              "  'permissions',\n",
              "  'system',\n",
              "  'regulates',\n",
              "  'what',\n",
              "  'users',\n",
              "  'can',\n",
              "  'do'],\n",
              " ['updates',\n",
              "  'have',\n",
              "  'introduced',\n",
              "  'features',\n",
              "  'using',\n",
              "  'machine',\n",
              "  'learning',\n",
              "  'including',\n",
              "  'explore',\n",
              "  'offering',\n",
              "  'search',\n",
              "  'results',\n",
              "  'based',\n",
              "  'on',\n",
              "  'the',\n",
              "  'contents',\n",
              "  'of',\n",
              "  'a',\n",
              "  'document',\n",
              "  'and',\n",
              "  'action',\n",
              "  'items',\n",
              "  'allowing',\n",
              "  'users',\n",
              "  'to',\n",
              "  'assign',\n",
              "  'tasks',\n",
              "  'to',\n",
              "  'other',\n",
              "  'users'],\n",
              " ['google', 'docs', 'supports', 'o']]"
            ]
          },
          "metadata": {},
          "execution_count": 28
        }
      ]
    },
    {
      "cell_type": "code",
      "source": [
        "nltk.download('stopwords')"
      ],
      "metadata": {
        "colab": {
          "base_uri": "https://localhost:8080/"
        },
        "id": "SrmlLN9GBLGJ",
        "outputId": "0344e454-db4c-4595-b068-9a933f25724f"
      },
      "execution_count": null,
      "outputs": [
        {
          "output_type": "stream",
          "name": "stderr",
          "text": [
            "[nltk_data] Downloading package stopwords to /root/nltk_data...\n",
            "[nltk_data]   Package stopwords is already up-to-date!\n"
          ]
        },
        {
          "output_type": "execute_result",
          "data": {
            "text/plain": [
              "True"
            ]
          },
          "metadata": {},
          "execution_count": 29
        }
      ]
    },
    {
      "source": [
        "for sentence_words in corpus: # Rename 'i' to 'sentence_words' for clarity\n",
        "  # 'sentence_words' is already a list of words, no need for further tokenization\n",
        "  for word in sentence_words:\n",
        "    if word not in set(stopwords.words('english')):\n",
        "      print(stemmer.stem(word))"
      ],
      "cell_type": "code",
      "metadata": {
        "colab": {
          "base_uri": "https://localhost:8080/"
        },
        "id": "f4eUDETPCU3y",
        "outputId": "fc358898-1ad0-4ff0-a7c4-ebfb7dfc71e5"
      },
      "execution_count": null,
      "outputs": [
        {
          "output_type": "stream",
          "name": "stdout",
          "text": [
            "googl\n",
            "doc\n",
            "allow\n",
            "user\n",
            "creat\n",
            "edit\n",
            "document\n",
            "onlin\n",
            "collabor\n",
            "user\n",
            "real\n",
            "time\n",
            "edit\n",
            "track\n",
            "user\n",
            "make\n",
            "edit\n",
            "revis\n",
            "histori\n",
            "present\n",
            "chang\n",
            "editor\n",
            "posit\n",
            "highlight\n",
            "editor\n",
            "specif\n",
            "color\n",
            "cursor\n",
            "permiss\n",
            "system\n",
            "regul\n",
            "user\n",
            "updat\n",
            "introduc\n",
            "featur\n",
            "use\n",
            "machin\n",
            "learn\n",
            "includ\n",
            "explor\n",
            "offer\n",
            "search\n",
            "result\n",
            "base\n",
            "content\n",
            "document\n",
            "action\n",
            "item\n",
            "allow\n",
            "user\n",
            "assign\n",
            "task\n",
            "user\n",
            "googl\n",
            "doc\n",
            "support\n"
          ]
        }
      ]
    },
    {
      "cell_type": "code",
      "source": [
        "from sklearn.feature_extraction.text import CountVectorizer\n",
        "\n",
        "corpus_strings = [' '.join(sentence) for sentence in corpus]\n",
        "cv = CountVectorizer()\n",
        "x = cv.fit_transform(corpus_strings)\n",
        "cv.vocabulary_"
      ],
      "metadata": {
        "colab": {
          "base_uri": "https://localhost:8080/"
        },
        "id": "HlJ73aeKCl4Q",
        "outputId": "97bf98d8-7ccb-494f-a1ee-d82ff70f2459"
      },
      "execution_count": null,
      "outputs": [
        {
          "output_type": "execute_result",
          "data": {
            "text/plain": [
              "{'google': 25,\n",
              " 'docs': 17,\n",
              " 'allows': 2,\n",
              " 'users': 60,\n",
              " 'to': 56,\n",
              " 'create': 14,\n",
              " 'and': 4,\n",
              " 'edit': 20,\n",
              " 'documents': 19,\n",
              " 'online': 40,\n",
              " 'while': 63,\n",
              " 'collaborating': 11,\n",
              " 'with': 64,\n",
              " 'in': 29,\n",
              " 'real': 45,\n",
              " 'time': 55,\n",
              " 'edits': 22,\n",
              " 'are': 5,\n",
              " 'tracked': 57,\n",
              " 'by': 8,\n",
              " 'the': 54,\n",
              " 'user': 59,\n",
              " 'making': 36,\n",
              " 'revision': 48,\n",
              " 'history': 28,\n",
              " 'presenting': 44,\n",
              " 'changes': 10,\n",
              " 'an': 3,\n",
              " 'editor': 21,\n",
              " 'position': 43,\n",
              " 'is': 32,\n",
              " 'highlighted': 27,\n",
              " 'specific': 50,\n",
              " 'color': 12,\n",
              " 'cursor': 15,\n",
              " 'permissions': 42,\n",
              " 'system': 52,\n",
              " 'regulates': 46,\n",
              " 'what': 62,\n",
              " 'can': 9,\n",
              " 'do': 16,\n",
              " 'updates': 58,\n",
              " 'have': 26,\n",
              " 'introduced': 31,\n",
              " 'features': 24,\n",
              " 'using': 61,\n",
              " 'machine': 35,\n",
              " 'learning': 34,\n",
              " 'including': 30,\n",
              " 'explore': 23,\n",
              " 'offering': 38,\n",
              " 'search': 49,\n",
              " 'results': 47,\n",
              " 'based': 7,\n",
              " 'on': 39,\n",
              " 'contents': 13,\n",
              " 'of': 37,\n",
              " 'document': 18,\n",
              " 'action': 0,\n",
              " 'items': 33,\n",
              " 'allowing': 1,\n",
              " 'assign': 6,\n",
              " 'tasks': 53,\n",
              " 'other': 41,\n",
              " 'supports': 51}"
            ]
          },
          "metadata": {},
          "execution_count": 40
        }
      ]
    },
    {
      "cell_type": "code",
      "source": [
        "from sklearn.feature_extraction.text import CountVectorizer\n",
        "cv2 = CountVectorizer()\n",
        "x2 = cv2.fit_transform(corpus_strings)\n",
        "cv2.vocabulary_"
      ],
      "metadata": {
        "colab": {
          "base_uri": "https://localhost:8080/"
        },
        "id": "m_F8Z0uzEvGq",
        "outputId": "090dcdba-7831-4f89-ce4b-4ba3cb19f5a8"
      },
      "execution_count": null,
      "outputs": [
        {
          "output_type": "execute_result",
          "data": {
            "text/plain": [
              "{'google': 25,\n",
              " 'docs': 17,\n",
              " 'allows': 2,\n",
              " 'users': 60,\n",
              " 'to': 56,\n",
              " 'create': 14,\n",
              " 'and': 4,\n",
              " 'edit': 20,\n",
              " 'documents': 19,\n",
              " 'online': 40,\n",
              " 'while': 63,\n",
              " 'collaborating': 11,\n",
              " 'with': 64,\n",
              " 'in': 29,\n",
              " 'real': 45,\n",
              " 'time': 55,\n",
              " 'edits': 22,\n",
              " 'are': 5,\n",
              " 'tracked': 57,\n",
              " 'by': 8,\n",
              " 'the': 54,\n",
              " 'user': 59,\n",
              " 'making': 36,\n",
              " 'revision': 48,\n",
              " 'history': 28,\n",
              " 'presenting': 44,\n",
              " 'changes': 10,\n",
              " 'an': 3,\n",
              " 'editor': 21,\n",
              " 'position': 43,\n",
              " 'is': 32,\n",
              " 'highlighted': 27,\n",
              " 'specific': 50,\n",
              " 'color': 12,\n",
              " 'cursor': 15,\n",
              " 'permissions': 42,\n",
              " 'system': 52,\n",
              " 'regulates': 46,\n",
              " 'what': 62,\n",
              " 'can': 9,\n",
              " 'do': 16,\n",
              " 'updates': 58,\n",
              " 'have': 26,\n",
              " 'introduced': 31,\n",
              " 'features': 24,\n",
              " 'using': 61,\n",
              " 'machine': 35,\n",
              " 'learning': 34,\n",
              " 'including': 30,\n",
              " 'explore': 23,\n",
              " 'offering': 38,\n",
              " 'search': 49,\n",
              " 'results': 47,\n",
              " 'based': 7,\n",
              " 'on': 39,\n",
              " 'contents': 13,\n",
              " 'of': 37,\n",
              " 'document': 18,\n",
              " 'action': 0,\n",
              " 'items': 33,\n",
              " 'allowing': 1,\n",
              " 'assign': 6,\n",
              " 'tasks': 53,\n",
              " 'other': 41,\n",
              " 'supports': 51}"
            ]
          },
          "metadata": {},
          "execution_count": 43
        }
      ]
    },
    {
      "cell_type": "markdown",
      "source": [
        "# **TF -TEAM FREQUENCY -INVERSE DOCUMENT FREQUENCY**"
      ],
      "metadata": {
        "id": "8a0Q-IGbsSMS"
      }
    },
    {
      "cell_type": "code",
      "source": [
        "from sklearn.feature_extraction.text import TfidfVectorizer\n",
        "corpus = [\n",
        "    \"This is the first document.\",\n",
        "    \"This document is the second document.\",\n",
        "    \"And this is the third one.\",\n",
        "    \"Is this the first document?\"\n",
        "]\n",
        "v = TfidfVectorizer()\n",
        "result = v.fit_transform(corpus)\n",
        "print(v.get_feature_names_out())\n",
        "print(v.vocabulary_)"
      ],
      "metadata": {
        "colab": {
          "base_uri": "https://localhost:8080/"
        },
        "id": "gFc2E8eysmoW",
        "outputId": "854586c0-ed01-462a-abd6-f964d8976b9e"
      },
      "execution_count": null,
      "outputs": [
        {
          "output_type": "stream",
          "name": "stdout",
          "text": [
            "['and' 'document' 'first' 'is' 'one' 'second' 'the' 'third' 'this']\n",
            "{'this': 8, 'is': 3, 'the': 6, 'first': 2, 'document': 1, 'second': 5, 'and': 0, 'third': 7, 'one': 4}\n"
          ]
        }
      ]
    },
    {
      "cell_type": "code",
      "source": [
        "print(result)"
      ],
      "metadata": {
        "colab": {
          "base_uri": "https://localhost:8080/"
        },
        "id": "dk35z9WxvJrJ",
        "outputId": "cc6492b5-6534-41fd-fda4-e5b46cecd839"
      },
      "execution_count": null,
      "outputs": [
        {
          "output_type": "stream",
          "name": "stdout",
          "text": [
            "  (0, 8)\t0.38408524091481483\n",
            "  (0, 3)\t0.38408524091481483\n",
            "  (0, 6)\t0.38408524091481483\n",
            "  (0, 2)\t0.5802858236844359\n",
            "  (0, 1)\t0.46979138557992045\n",
            "  (1, 8)\t0.281088674033753\n",
            "  (1, 3)\t0.281088674033753\n",
            "  (1, 6)\t0.281088674033753\n",
            "  (1, 1)\t0.6876235979836938\n",
            "  (1, 5)\t0.5386476208856763\n",
            "  (2, 8)\t0.267103787642168\n",
            "  (2, 3)\t0.267103787642168\n",
            "  (2, 6)\t0.267103787642168\n",
            "  (2, 0)\t0.511848512707169\n",
            "  (2, 7)\t0.511848512707169\n",
            "  (2, 4)\t0.511848512707169\n",
            "  (3, 8)\t0.38408524091481483\n",
            "  (3, 3)\t0.38408524091481483\n",
            "  (3, 6)\t0.38408524091481483\n",
            "  (3, 2)\t0.5802858236844359\n",
            "  (3, 1)\t0.46979138557992045\n"
          ]
        }
      ]
    },
    {
      "cell_type": "code",
      "source": [
        "all_feature_names = v.get_feature_names_out()\n",
        "for word in all_feature_names:\n",
        "  indx = v.vocabulary_.get(word)\n",
        "  idf_score = v.idf_[indx]\n",
        "  print(f\"{word} {idf_score}\")"
      ],
      "metadata": {
        "colab": {
          "base_uri": "https://localhost:8080/"
        },
        "id": "E5fkQ759wUQ6",
        "outputId": "a9e8e6ee-2c8c-4c99-dbeb-be6b66223938"
      },
      "execution_count": null,
      "outputs": [
        {
          "output_type": "stream",
          "name": "stdout",
          "text": [
            "and 1.916290731874155\n",
            "document 1.2231435513142097\n",
            "first 1.5108256237659907\n",
            "is 1.0\n",
            "one 1.916290731874155\n",
            "second 1.916290731874155\n",
            "the 1.0\n",
            "third 1.916290731874155\n",
            "this 1.0\n"
          ]
        }
      ]
    },
    {
      "cell_type": "markdown",
      "source": [],
      "metadata": {
        "id": "8W4d5229xXuM"
      }
    },
    {
      "cell_type": "code",
      "source": [],
      "metadata": {
        "id": "psZWNvrCyOYb"
      },
      "execution_count": null,
      "outputs": []
    }
  ]
}